{
 "cells": [
  {
   "cell_type": "code",
   "execution_count": 32,
   "id": "df1afdb8",
   "metadata": {},
   "outputs": [],
   "source": [
    "import pandas as pd\n",
    "import numpy as np"
   ]
  },
  {
   "cell_type": "code",
   "execution_count": 33,
   "id": "30d74d5f",
   "metadata": {},
   "outputs": [],
   "source": [
    "data = pd.read_csv('data_preprocessed_new.csv').to_numpy()\n",
    "\n",
    "x =data[:,1:-2]\n",
    "y=data[:,-1]"
   ]
  },
  {
   "cell_type": "markdown",
   "id": "7cb73feb",
   "metadata": {},
   "source": [
    "# Without Sampling"
   ]
  },
  {
   "cell_type": "code",
   "execution_count": 34,
   "id": "6417b168",
   "metadata": {},
   "outputs": [],
   "source": [
    "from sklearn.model_selection import train_test_split\n",
    "x_train, x_test, y_train, y_test = train_test_split(x, y, test_size = 0.2)\n",
    "sampling = False"
   ]
  },
  {
   "cell_type": "markdown",
   "id": "bc7cc990",
   "metadata": {},
   "source": [
    "# With Sampling"
   ]
  },
  {
   "cell_type": "code",
   "execution_count": null,
   "id": "2ba6732d",
   "metadata": {},
   "outputs": [],
   "source": [
    "from sklearn.model_selection import train_test_split\n",
    "x_train, x_test, y_train, y_test = train_test_split(x, y, test_size = 0.2)\n",
    "from imblearn.under_sampling import ClusterCentroids \n",
    "from imblearn.over_sampling import RandomOverSampler\n",
    "\n",
    "cc = ClusterCentroids(random_state=383)\n",
    "ros = RandomOverSampler(random_state=383)\n",
    "x_train, y_train = ros.fit_resample(x_train, y_train)\n",
    "sampling = True"
   ]
  },
  {
   "cell_type": "code",
   "execution_count": 53,
   "id": "42ca0cc3",
   "metadata": {},
   "outputs": [],
   "source": [
    "iln = len(x[0])\n",
    "hln = 30\n",
    "oln = 2\n",
    "eta = 0.01\n",
    "num_epoch = 10000"
   ]
  },
  {
   "cell_type": "code",
   "execution_count": 54,
   "id": "68c52f2b",
   "metadata": {},
   "outputs": [],
   "source": [
    "import torch\n",
    "import torch.nn as nn\n",
    "class Net(nn.Module):\n",
    "    def __init__(self):\n",
    "        super(Net, self).__init__()\n",
    "        self.fc1 = nn.Linear(iln, hln)\n",
    "        self.fc2 = nn.Linear(hln, oln)\n",
    "    def forward(self, x):\n",
    "        x = torch.sigmoid(self.fc1(x))\n",
    "        x = self.fc2(x)\n",
    "        return x"
   ]
  },
  {
   "cell_type": "code",
   "execution_count": 55,
   "id": "e861158e",
   "metadata": {},
   "outputs": [],
   "source": [
    "model = Net()"
   ]
  },
  {
   "cell_type": "code",
   "execution_count": 56,
   "id": "0f902a42",
   "metadata": {},
   "outputs": [],
   "source": [
    "criterion = nn.CrossEntropyLoss()\n",
    "optimizer = torch.optim.SGD(model.parameters(), lr = eta)"
   ]
  },
  {
   "cell_type": "code",
   "execution_count": 57,
   "id": "1303b607",
   "metadata": {},
   "outputs": [],
   "source": [
    "x = torch.Tensor(x_train).float()\n",
    "y = torch.Tensor(y_train).long()"
   ]
  },
  {
   "cell_type": "code",
   "execution_count": 58,
   "id": "4b221133",
   "metadata": {},
   "outputs": [
    {
     "name": "stdout",
     "output_type": "stream",
     "text": [
      "1000\n",
      "2000\n",
      "3000\n",
      "4000\n",
      "5000\n",
      "6000\n",
      "7000\n",
      "8000\n",
      "9000\n",
      "10000\n"
     ]
    }
   ],
   "source": [
    "for epoch in range(num_epoch):\n",
    "    if (epoch+1)%1000==0:\n",
    "        print(epoch+1)\n",
    "    optimizer.zero_grad()\n",
    "    out = model(x)\n",
    "    loss = criterion(out, y)\n",
    "    loss.backward()\n",
    "    optimizer.step()"
   ]
  },
  {
   "cell_type": "code",
   "execution_count": 25,
   "id": "44ab2a34",
   "metadata": {},
   "outputs": [],
   "source": [
    "x = torch.Tensor(x_test).float()\n",
    "y = torch.Tensor(y_test).long()"
   ]
  },
  {
   "cell_type": "code",
   "execution_count": 26,
   "id": "eca4574f",
   "metadata": {},
   "outputs": [],
   "source": [
    "out = model(x)"
   ]
  },
  {
   "cell_type": "code",
   "execution_count": 27,
   "id": "1363900e",
   "metadata": {},
   "outputs": [],
   "source": [
    "(_, predicted) = torch.max(out.data, 1)"
   ]
  },
  {
   "cell_type": "code",
   "execution_count": 28,
   "id": "9b67262a",
   "metadata": {},
   "outputs": [
    {
     "data": {
      "text/plain": [
       "tensor([0, 0, 0,  ..., 0, 0, 0])"
      ]
     },
     "execution_count": 28,
     "metadata": {},
     "output_type": "execute_result"
    }
   ],
   "source": [
    "predicted"
   ]
  },
  {
   "cell_type": "code",
   "execution_count": 29,
   "id": "e584efb3",
   "metadata": {},
   "outputs": [
    {
     "name": "stdout",
     "output_type": "stream",
     "text": [
      "Accuracy is: tensor(91.6712, dtype=torch.float64)\n"
     ]
    }
   ],
   "source": [
    "print('Accuracy is:', (100 * torch.sum(y == predicted).double() / len(y)))"
   ]
  },
  {
   "cell_type": "code",
   "execution_count": null,
   "id": "408fd313",
   "metadata": {},
   "outputs": [],
   "source": [
    "from sklearn.metrics import f1_score\n",
    "from sklearn.metrics import accuracy_score\n",
    "from sklearn.metrics import confusion_matrix\n",
    "import seaborn as sn\n",
    "import matplotlib.pyplot as plt\n",
    "print(\"Accuracy:\",accuracy_score(y_test, predicted))\n",
    "print(\"F1 scores for 2 classes:\",f1_score(y_test, predicted, average=None))\n",
    "cm = confusion_matrix(y_test, predicted)\n",
    "\n",
    "plt.figure(figsize = (10,7))\n",
    "ax = plt.axes()\n",
    "sn.heatmap(cm, annot=True,fmt='d',ax=ax)\n",
    "ax.set_title('Confusion Matrix of LR {} oversampling'.format(\"with\" if sampling == True else \"without\"))"
   ]
  }
 ],
 "metadata": {
  "kernelspec": {
   "display_name": "Python 3 (ipykernel)",
   "language": "python",
   "name": "python3"
  },
  "language_info": {
   "codemirror_mode": {
    "name": "ipython",
    "version": 3
   },
   "file_extension": ".py",
   "mimetype": "text/x-python",
   "name": "python",
   "nbconvert_exporter": "python",
   "pygments_lexer": "ipython3",
   "version": "3.9.7"
  }
 },
 "nbformat": 4,
 "nbformat_minor": 5
}
